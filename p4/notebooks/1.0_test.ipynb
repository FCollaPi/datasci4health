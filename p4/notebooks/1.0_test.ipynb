{
 "cells": [
  {
   "cell_type": "code",
   "execution_count": 2,
   "metadata": {},
   "outputs": [],
   "source": [
    "import os\n",
    "import glob\n",
    "import copy\n",
    "import numpy as np\n",
    "import pandas as pd\n",
    "import cv2 as cv\n",
    "import matplotlib.pyplot as plt\n",
    "import seaborn as sns\n",
    "from dotenv import load_dotenv\n",
    "from PIL import Image\n",
    "from sklearn.preprocessing import RobustScaler, MinMaxScaler, StandardScaler\n",
    "from skimage.feature import graycomatrix, graycoprops\n",
    "from skimage.feature import local_binary_pattern\n",
    "from sklearn.svm import SVC\n",
    "from sklearn.linear_model import LogisticRegression\n",
    "from sklearn.model_selection import StratifiedKFold\n",
    "from sklearn.metrics import confusion_matrix, roc_auc_score, balanced_accuracy_score, accuracy_score\n",
    "import scipy\n",
    "import pickle"
   ]
  },
  {
   "cell_type": "code",
   "execution_count": 3,
   "metadata": {},
   "outputs": [],
   "source": [
    "load_dotenv('test.env')\n",
    "raw_dir = os.environ['RAW_DIR']\n",
    "interim_dir = os.environ['INTERIM_DIR']\n",
    "test_dir = os.environ['TEST_DIR']"
   ]
  },
  {
   "cell_type": "code",
   "execution_count": 4,
   "metadata": {},
   "outputs": [],
   "source": [
    "def medianmad_norm(arr_like):\n",
    "    '''\n",
    "    Normalize by median and MAD\n",
    "\n",
    "    Modified version from the function made available by the professor\n",
    "    '''\n",
    "    np_arr = np.array(arr_like)\n",
    "    median = np.median(np_arr)\n",
    "    dev = np.abs(np_arr - median)\n",
    "    mad = np.median(dev)\n",
    "    norm = ((np_arr - median) / mad)\n",
    "    return (norm,mad)\n",
    "\n",
    "def tanh_modified_norm(arr_like):\n",
    "    np_arr = np.array(arr_like)\n",
    "\n",
    "    mean = np.mean(np_arr)\n",
    "    std = np.std(np_arr)\n",
    "\n",
    "    return 127*(np.tanh(0.01*((np_arr-mean)/std))+1)"
   ]
  },
  {
   "cell_type": "code",
   "execution_count": 5,
   "metadata": {},
   "outputs": [],
   "source": [
    "# img_list = glob.glob(os.path.join(raw_dir,'AVC/*.bmp')) + glob.glob(os.path.join(raw_dir,'EM/*.bmp'))\n",
    "img_list = glob.glob(os.path.join(test_dir,'*.bmp'))"
   ]
  },
  {
   "cell_type": "code",
   "execution_count": 6,
   "metadata": {},
   "outputs": [],
   "source": [
    "def get_mask_path(img_path, mask_suffix='_mask.png'):\n",
    "    img_wo_ext = os.path.splitext(img_path)[0]\n",
    "    mask_path = img_wo_ext + mask_suffix\n",
    "    return mask_path"
   ]
  },
  {
   "cell_type": "code",
   "execution_count": 7,
   "metadata": {},
   "outputs": [],
   "source": [
    "def save_histogram(arr_like, output_path, title='', nbins=20):\n",
    "    h, bin_edges = np.histogram(arr_like, nbins)\n",
    "    w = np.max(arr_like)/nbins\n",
    "    bin_centers = bin_edges[1:]-(w/2)\n",
    "    plt.figure(dpi=100, frameon=False)\n",
    "    if len(title) > 0:\n",
    "        plt.title(title)\n",
    "    plt.bar(bin_centers, h, width=w)\n",
    "    plt.savefig(output_path)\n",
    "    plt.close()"
   ]
  },
  {
   "cell_type": "code",
   "execution_count": 8,
   "metadata": {},
   "outputs": [],
   "source": [
    "def crop_zero_borders(img_arr):\n",
    "    coords = np.argwhere(img_arr > 0)\n",
    "\n",
    "    y_min, x_min = np.min(coords, axis=0)\n",
    "    y_max, x_max = np.max(coords, axis=0) + 1\n",
    "\n",
    "    return img_arr[y_min:y_max, x_min:x_max], (y_min, y_max, x_min, x_max)"
   ]
  },
  {
   "cell_type": "code",
   "execution_count": 9,
   "metadata": {},
   "outputs": [],
   "source": [
    "def get_lbp_histogram(img, radius=3, method='uniform', bins = 30):\n",
    "    n_points = 8 * radius\n",
    "    lbp = local_binary_pattern(img, n_points, radius, method)\n",
    "    hist, bins = np.histogram(lbp, bins=bins)\n",
    "    return lbp, hist, bins\n",
    "\n",
    "def get_histogram_attributes(hist, prefix=''):\n",
    "    return {\n",
    "        # prefix + 'Min': np.min(hist),\n",
    "        prefix + 'Max': np.max(hist),\n",
    "        prefix + 'Mean': np.mean(hist),\n",
    "        prefix + 'Variation': scipy.stats.variation(hist),\n",
    "         # prefix + 'Mode' : scipy.stats.mode(hist)[0][0],\n",
    "        prefix + 'Median': np.median(hist),\n",
    "        prefix + 'Skewness': scipy.stats.skew(hist),\n",
    "        prefix + 'Kurtosis': scipy.stats.kurtosis(hist),\n",
    "        prefix + 'Entropy': scipy.stats.entropy(hist),\n",
    "    }"
   ]
  },
  {
   "cell_type": "code",
   "execution_count": 10,
   "metadata": {},
   "outputs": [],
   "source": [
    "texture_list = []\n",
    "for img_path in img_list:\n",
    "    mask_path = get_mask_path(img_path)\n",
    "    if not os.path.exists(mask_path):\n",
    "        continue\n",
    "\n",
    "    img = cv.imread(img_path, cv.IMREAD_GRAYSCALE)\n",
    "    if img is None:\n",
    "        continue\n",
    "\n",
    "    mask = cv.imread(mask_path, cv.IMREAD_UNCHANGED)\n",
    "    if mask is None:\n",
    "        continue\n",
    "\n",
    "    # scaler = MinMaxScaler([0,255])\n",
    "    # normed = scaler.fit_transform(img).astype(np.uint8)\n",
    "    normed = tanh_modified_norm(img).astype(np.uint8)\n",
    "\n",
    "    masked = normed * (mask == mask.max())\n",
    "\n",
    "    masked_cropped, _ = crop_zero_borders(masked)\n",
    "\n",
    "    hist, _ = np.histogram(masked_cropped, bins=50)\n",
    "    hist_attr = get_histogram_attributes(hist)\n",
    "\n",
    "    distances = [5]\n",
    "    angles = [60]\n",
    "    glcm = graycomatrix(masked_cropped, distances=distances, angles=angles, levels=256, symmetric=False, normed=False)\n",
    "    a = graycoprops(glcm, prop='contrast').flatten()\n",
    "    contrast = a[0]\n",
    "\n",
    "    lbp, lbp_hist, lbp_bins = get_lbp_histogram(masked_cropped)\n",
    "    lbp_attr = get_histogram_attributes(lbp_hist, 'Lbp')\n",
    "\n",
    "    label = img_path.split('/')[-2]\n",
    "\n",
    "    patient_id = img_path.split('/')[-1].split('_')[0]\n",
    "\n",
    "    # print('mask', masked.max(), masked.min(), 'contrast', max_contrast, max_dist, max_angle, \"hist\", lbp_attr)\n",
    "\n",
    "    attributes = {\n",
    "        'Contrast': contrast,\n",
    "        'Label': label,\n",
    "        'PatientId': patient_id,\n",
    "    }\n",
    "    attributes.update(hist_attr)\n",
    "    attributes.update(lbp_attr)\n",
    "\n",
    "    texture_list.append(attributes)\n",
    "\n",
    "    # out_path = os.path.join(interim_dir, img_path.split(raw_dir)[1])\n",
    "    # out_path = os.path.join(interim_dir, \"hists\", os.path.splitext(img_path.split(raw_dir)[1])[0] + \".png\")\n",
    "    \n",
    "    # ok = cv.imwrite(out_path, masked)\n",
    "    # print(\"write\", img_path, out_path, ok)\n",
    "\n",
    "    # os.makedirs(os.path.dirname(out_path), exist_ok=True)\n",
    "    # save_histogram(masked[masked > 0], out_path, \"Modified norm lesion histogram\", nbins=50)\n",
    "\n",
    "df = pd.DataFrame(texture_list)"
   ]
  },
  {
   "cell_type": "code",
   "execution_count": 11,
   "metadata": {},
   "outputs": [],
   "source": [
    "with open('../models/1.0-estimator.pkl', 'rb') as f:\n",
    "    estimator = pickle.load(f)"
   ]
  },
  {
   "cell_type": "code",
   "execution_count": 13,
   "metadata": {},
   "outputs": [],
   "source": [
    "x_vars=[\"Entropy\", \"Contrast\"]\n",
    "X_test = df[x_vars]"
   ]
  },
  {
   "cell_type": "code",
   "execution_count": 14,
   "metadata": {},
   "outputs": [],
   "source": [
    "y_test = estimator.predict(X_test)"
   ]
  },
  {
   "cell_type": "code",
   "execution_count": 32,
   "metadata": {},
   "outputs": [],
   "source": [
    "out = df[['PatientId']]"
   ]
  },
  {
   "cell_type": "code",
   "execution_count": 33,
   "metadata": {},
   "outputs": [
    {
     "data": {
      "text/html": [
       "<div>\n",
       "<style scoped>\n",
       "    .dataframe tbody tr th:only-of-type {\n",
       "        vertical-align: middle;\n",
       "    }\n",
       "\n",
       "    .dataframe tbody tr th {\n",
       "        vertical-align: top;\n",
       "    }\n",
       "\n",
       "    .dataframe thead th {\n",
       "        text-align: right;\n",
       "    }\n",
       "</style>\n",
       "<table border=\"1\" class=\"dataframe\">\n",
       "  <thead>\n",
       "    <tr style=\"text-align: right;\">\n",
       "      <th></th>\n",
       "      <th>PatientId</th>\n",
       "    </tr>\n",
       "  </thead>\n",
       "  <tbody>\n",
       "    <tr>\n",
       "      <th>0</th>\n",
       "      <td>150</td>\n",
       "    </tr>\n",
       "    <tr>\n",
       "      <th>1</th>\n",
       "      <td>151</td>\n",
       "    </tr>\n",
       "    <tr>\n",
       "      <th>2</th>\n",
       "      <td>152</td>\n",
       "    </tr>\n",
       "    <tr>\n",
       "      <th>3</th>\n",
       "      <td>153</td>\n",
       "    </tr>\n",
       "    <tr>\n",
       "      <th>4</th>\n",
       "      <td>154</td>\n",
       "    </tr>\n",
       "    <tr>\n",
       "      <th>...</th>\n",
       "      <td>...</td>\n",
       "    </tr>\n",
       "    <tr>\n",
       "      <th>220</th>\n",
       "      <td>393</td>\n",
       "    </tr>\n",
       "    <tr>\n",
       "      <th>221</th>\n",
       "      <td>394</td>\n",
       "    </tr>\n",
       "    <tr>\n",
       "      <th>222</th>\n",
       "      <td>395</td>\n",
       "    </tr>\n",
       "    <tr>\n",
       "      <th>223</th>\n",
       "      <td>397</td>\n",
       "    </tr>\n",
       "    <tr>\n",
       "      <th>224</th>\n",
       "      <td>398</td>\n",
       "    </tr>\n",
       "  </tbody>\n",
       "</table>\n",
       "<p>225 rows × 1 columns</p>\n",
       "</div>"
      ],
      "text/plain": [
       "    PatientId\n",
       "0         150\n",
       "1         151\n",
       "2         152\n",
       "3         153\n",
       "4         154\n",
       "..        ...\n",
       "220       393\n",
       "221       394\n",
       "222       395\n",
       "223       397\n",
       "224       398\n",
       "\n",
       "[225 rows x 1 columns]"
      ]
     },
     "execution_count": 33,
     "metadata": {},
     "output_type": "execute_result"
    }
   ],
   "source": [
    "out"
   ]
  },
  {
   "cell_type": "code",
   "execution_count": 34,
   "metadata": {},
   "outputs": [
    {
     "name": "stderr",
     "output_type": "stream",
     "text": [
      "/tmp/ipykernel_858633/3907339970.py:1: SettingWithCopyWarning: \n",
      "A value is trying to be set on a copy of a slice from a DataFrame.\n",
      "Try using .loc[row_indexer,col_indexer] = value instead\n",
      "\n",
      "See the caveats in the documentation: https://pandas.pydata.org/pandas-docs/stable/user_guide/indexing.html#returning-a-view-versus-a-copy\n",
      "  out['Predicted'] = y_test\n"
     ]
    }
   ],
   "source": [
    "out['Predicted'] = y_test"
   ]
  },
  {
   "cell_type": "code",
   "execution_count": 35,
   "metadata": {},
   "outputs": [
    {
     "data": {
      "text/html": [
       "<div>\n",
       "<style scoped>\n",
       "    .dataframe tbody tr th:only-of-type {\n",
       "        vertical-align: middle;\n",
       "    }\n",
       "\n",
       "    .dataframe tbody tr th {\n",
       "        vertical-align: top;\n",
       "    }\n",
       "\n",
       "    .dataframe thead th {\n",
       "        text-align: right;\n",
       "    }\n",
       "</style>\n",
       "<table border=\"1\" class=\"dataframe\">\n",
       "  <thead>\n",
       "    <tr style=\"text-align: right;\">\n",
       "      <th></th>\n",
       "      <th>PatientId</th>\n",
       "      <th>Predicted</th>\n",
       "    </tr>\n",
       "  </thead>\n",
       "  <tbody>\n",
       "    <tr>\n",
       "      <th>0</th>\n",
       "      <td>150</td>\n",
       "      <td>AVC</td>\n",
       "    </tr>\n",
       "    <tr>\n",
       "      <th>1</th>\n",
       "      <td>151</td>\n",
       "      <td>EM</td>\n",
       "    </tr>\n",
       "    <tr>\n",
       "      <th>2</th>\n",
       "      <td>152</td>\n",
       "      <td>EM</td>\n",
       "    </tr>\n",
       "    <tr>\n",
       "      <th>3</th>\n",
       "      <td>153</td>\n",
       "      <td>EM</td>\n",
       "    </tr>\n",
       "    <tr>\n",
       "      <th>4</th>\n",
       "      <td>154</td>\n",
       "      <td>AVC</td>\n",
       "    </tr>\n",
       "    <tr>\n",
       "      <th>...</th>\n",
       "      <td>...</td>\n",
       "      <td>...</td>\n",
       "    </tr>\n",
       "    <tr>\n",
       "      <th>220</th>\n",
       "      <td>393</td>\n",
       "      <td>AVC</td>\n",
       "    </tr>\n",
       "    <tr>\n",
       "      <th>221</th>\n",
       "      <td>394</td>\n",
       "      <td>AVC</td>\n",
       "    </tr>\n",
       "    <tr>\n",
       "      <th>222</th>\n",
       "      <td>395</td>\n",
       "      <td>EM</td>\n",
       "    </tr>\n",
       "    <tr>\n",
       "      <th>223</th>\n",
       "      <td>397</td>\n",
       "      <td>AVC</td>\n",
       "    </tr>\n",
       "    <tr>\n",
       "      <th>224</th>\n",
       "      <td>398</td>\n",
       "      <td>AVC</td>\n",
       "    </tr>\n",
       "  </tbody>\n",
       "</table>\n",
       "<p>225 rows × 2 columns</p>\n",
       "</div>"
      ],
      "text/plain": [
       "    PatientId Predicted\n",
       "0         150       AVC\n",
       "1         151        EM\n",
       "2         152        EM\n",
       "3         153        EM\n",
       "4         154       AVC\n",
       "..        ...       ...\n",
       "220       393       AVC\n",
       "221       394       AVC\n",
       "222       395        EM\n",
       "223       397       AVC\n",
       "224       398       AVC\n",
       "\n",
       "[225 rows x 2 columns]"
      ]
     },
     "execution_count": 35,
     "metadata": {},
     "output_type": "execute_result"
    }
   ],
   "source": [
    "out"
   ]
  },
  {
   "cell_type": "code",
   "execution_count": 36,
   "metadata": {},
   "outputs": [],
   "source": [
    "out.to_csv(os.path.join(test_dir, \"predicted.csv\"), index=False)"
   ]
  },
  {
   "cell_type": "code",
   "execution_count": null,
   "metadata": {},
   "outputs": [],
   "source": []
  }
 ],
 "metadata": {
  "kernelspec": {
   "display_name": "Python 3.9.12 ('image')",
   "language": "python",
   "name": "python3"
  },
  "language_info": {
   "codemirror_mode": {
    "name": "ipython",
    "version": 3
   },
   "file_extension": ".py",
   "mimetype": "text/x-python",
   "name": "python",
   "nbconvert_exporter": "python",
   "pygments_lexer": "ipython3",
   "version": "3.9.12"
  },
  "orig_nbformat": 4,
  "vscode": {
   "interpreter": {
    "hash": "9bbb334cfcee373c762b2007570f5db5d8a117d83a6f408ca6f408e6a6075e0f"
   }
  }
 },
 "nbformat": 4,
 "nbformat_minor": 2
}
