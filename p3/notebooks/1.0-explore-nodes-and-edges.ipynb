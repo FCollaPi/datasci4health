{
 "cells": [
  {
   "cell_type": "code",
   "execution_count": 16,
   "metadata": {},
   "outputs": [],
   "source": [
    "import pandas as pd\n",
    "import numpy as np\n",
    "import matplotlib as mpl\n",
    "import matplotlib.pyplot as plt"
   ]
  },
  {
   "cell_type": "markdown",
   "metadata": {},
   "source": [
    "Nodes and edges tables are opened for checking."
   ]
  },
  {
   "cell_type": "code",
   "execution_count": 17,
   "metadata": {},
   "outputs": [
    {
     "data": {
      "text/html": [
       "<div>\n",
       "<style scoped>\n",
       "    .dataframe tbody tr th:only-of-type {\n",
       "        vertical-align: middle;\n",
       "    }\n",
       "\n",
       "    .dataframe tbody tr th {\n",
       "        vertical-align: top;\n",
       "    }\n",
       "\n",
       "    .dataframe thead th {\n",
       "        text-align: right;\n",
       "    }\n",
       "</style>\n",
       "<table border=\"1\" class=\"dataframe\">\n",
       "  <thead>\n",
       "    <tr style=\"text-align: right;\">\n",
       "      <th></th>\n",
       "      <th>dbi</th>\n",
       "      <th>p_node</th>\n",
       "      <th>hormone</th>\n",
       "      <th>len_i</th>\n",
       "      <th>degree</th>\n",
       "      <th>color</th>\n",
       "      <th>degree-strength</th>\n",
       "      <th>label</th>\n",
       "      <th>node_bet_cent</th>\n",
       "      <th>module-louvain</th>\n",
       "      <th>module-infomap</th>\n",
       "      <th>class</th>\n",
       "      <th>rank_degree</th>\n",
       "    </tr>\n",
       "  </thead>\n",
       "  <tbody>\n",
       "    <tr>\n",
       "      <th>0</th>\n",
       "      <td>DB00252</td>\n",
       "      <td>0.20</td>\n",
       "      <td>False</td>\n",
       "      <td>42794</td>\n",
       "      <td>24</td>\n",
       "      <td>#976fb0</td>\n",
       "      <td>6.51</td>\n",
       "      <td>Phenytoin</td>\n",
       "      <td>0.30</td>\n",
       "      <td>2</td>\n",
       "      <td>1</td>\n",
       "      <td>CNS agents</td>\n",
       "      <td>1</td>\n",
       "    </tr>\n",
       "    <tr>\n",
       "      <th>1</th>\n",
       "      <td>DB00564</td>\n",
       "      <td>0.18</td>\n",
       "      <td>False</td>\n",
       "      <td>87950</td>\n",
       "      <td>18</td>\n",
       "      <td>#976fb0</td>\n",
       "      <td>4.84</td>\n",
       "      <td>Carbamazepine</td>\n",
       "      <td>0.20</td>\n",
       "      <td>0</td>\n",
       "      <td>2</td>\n",
       "      <td>CNS agents</td>\n",
       "      <td>2</td>\n",
       "    </tr>\n",
       "    <tr>\n",
       "      <th>2</th>\n",
       "      <td>DB01174</td>\n",
       "      <td>0.05</td>\n",
       "      <td>False</td>\n",
       "      <td>13638</td>\n",
       "      <td>15</td>\n",
       "      <td>#976fb0</td>\n",
       "      <td>2.17</td>\n",
       "      <td>Phenobarbital</td>\n",
       "      <td>0.28</td>\n",
       "      <td>2</td>\n",
       "      <td>1</td>\n",
       "      <td>CNS agents</td>\n",
       "      <td>3</td>\n",
       "    </tr>\n",
       "    <tr>\n",
       "      <th>3</th>\n",
       "      <td>DB00571</td>\n",
       "      <td>0.10</td>\n",
       "      <td>False</td>\n",
       "      <td>109099</td>\n",
       "      <td>14</td>\n",
       "      <td>#ee262c</td>\n",
       "      <td>4.81</td>\n",
       "      <td>Propranolol</td>\n",
       "      <td>0.06</td>\n",
       "      <td>4</td>\n",
       "      <td>0</td>\n",
       "      <td>Cardiovascular agents</td>\n",
       "      <td>4</td>\n",
       "    </tr>\n",
       "    <tr>\n",
       "      <th>4</th>\n",
       "      <td>DB00682</td>\n",
       "      <td>0.13</td>\n",
       "      <td>False</td>\n",
       "      <td>57959</td>\n",
       "      <td>14</td>\n",
       "      <td>#f498b7</td>\n",
       "      <td>3.31</td>\n",
       "      <td>Warfarin</td>\n",
       "      <td>0.17</td>\n",
       "      <td>1</td>\n",
       "      <td>3</td>\n",
       "      <td>Coagulation modifiers</td>\n",
       "      <td>4</td>\n",
       "    </tr>\n",
       "  </tbody>\n",
       "</table>\n",
       "</div>"
      ],
      "text/plain": [
       "       dbi  p_node  hormone   len_i  degree    color  degree-strength  \\\n",
       "0  DB00252    0.20    False   42794      24  #976fb0             6.51   \n",
       "1  DB00564    0.18    False   87950      18  #976fb0             4.84   \n",
       "2  DB01174    0.05    False   13638      15  #976fb0             2.17   \n",
       "3  DB00571    0.10    False  109099      14  #ee262c             4.81   \n",
       "4  DB00682    0.13    False   57959      14  #f498b7             3.31   \n",
       "\n",
       "           label  node_bet_cent  module-louvain  module-infomap  \\\n",
       "0      Phenytoin           0.30               2               1   \n",
       "1  Carbamazepine           0.20               0               2   \n",
       "2  Phenobarbital           0.28               2               1   \n",
       "3    Propranolol           0.06               4               0   \n",
       "4       Warfarin           0.17               1               3   \n",
       "\n",
       "                   class  rank_degree  \n",
       "0             CNS agents            1  \n",
       "1             CNS agents            2  \n",
       "2             CNS agents            3  \n",
       "3  Cardiovascular agents            4  \n",
       "4  Coagulation modifiers            4  "
      ]
     },
     "execution_count": 17,
     "metadata": {},
     "output_type": "execute_result"
    }
   ],
   "source": [
    "net_nodes = pd.read_csv('/home/felipe/Code/datasci4health/p3/data/external/net_nodes.csv')\n",
    "net_nodes.head()"
   ]
  },
  {
   "cell_type": "code",
   "execution_count": 18,
   "metadata": {},
   "outputs": [
    {
     "data": {
      "text/html": [
       "<div>\n",
       "<style scoped>\n",
       "    .dataframe tbody tr th:only-of-type {\n",
       "        vertical-align: middle;\n",
       "    }\n",
       "\n",
       "    .dataframe tbody tr th {\n",
       "        vertical-align: top;\n",
       "    }\n",
       "\n",
       "    .dataframe thead th {\n",
       "        text-align: right;\n",
       "    }\n",
       "</style>\n",
       "<table border=\"1\" class=\"dataframe\">\n",
       "  <thead>\n",
       "    <tr style=\"text-align: right;\">\n",
       "      <th></th>\n",
       "      <th>dbi</th>\n",
       "      <th>dbj</th>\n",
       "      <th>tau</th>\n",
       "      <th>severity</th>\n",
       "      <th>weight</th>\n",
       "      <th>edge_bet_cent</th>\n",
       "      <th>color</th>\n",
       "      <th>gender</th>\n",
       "      <th>patients_norm</th>\n",
       "      <th>RRI^F</th>\n",
       "      <th>patients</th>\n",
       "      <th>tau_norm</th>\n",
       "      <th>RRI^M</th>\n",
       "      <th>label_i</th>\n",
       "      <th>label_j</th>\n",
       "    </tr>\n",
       "  </thead>\n",
       "  <tbody>\n",
       "    <tr>\n",
       "      <th>0</th>\n",
       "      <td>DB01174</td>\n",
       "      <td>DB00741</td>\n",
       "      <td>0.01</td>\n",
       "      <td>Moderate</td>\n",
       "      <td>1.128571</td>\n",
       "      <td>0.20</td>\n",
       "      <td>#fcb89d</td>\n",
       "      <td>Female</td>\n",
       "      <td>1.005515</td>\n",
       "      <td>1.416707</td>\n",
       "      <td>3</td>\n",
       "      <td>1.128571</td>\n",
       "      <td>0.705862</td>\n",
       "      <td>Phenobarbital</td>\n",
       "      <td>Hydrocortisone</td>\n",
       "    </tr>\n",
       "    <tr>\n",
       "      <th>1</th>\n",
       "      <td>DB00252</td>\n",
       "      <td>DB00741</td>\n",
       "      <td>0.02</td>\n",
       "      <td>Moderate</td>\n",
       "      <td>1.257143</td>\n",
       "      <td>0.19</td>\n",
       "      <td>#808080</td>\n",
       "      <td>Male</td>\n",
       "      <td>1.002758</td>\n",
       "      <td>0.708354</td>\n",
       "      <td>2</td>\n",
       "      <td>1.257143</td>\n",
       "      <td>1.411724</td>\n",
       "      <td>Phenytoin</td>\n",
       "      <td>Hydrocortisone</td>\n",
       "    </tr>\n",
       "    <tr>\n",
       "      <th>2</th>\n",
       "      <td>DB00682</td>\n",
       "      <td>DB00537</td>\n",
       "      <td>0.07</td>\n",
       "      <td>Major</td>\n",
       "      <td>1.900000</td>\n",
       "      <td>0.14</td>\n",
       "      <td>#fdc9b4</td>\n",
       "      <td>Female</td>\n",
       "      <td>1.057908</td>\n",
       "      <td>1.023178</td>\n",
       "      <td>22</td>\n",
       "      <td>1.900000</td>\n",
       "      <td>0.977347</td>\n",
       "      <td>Warfarin</td>\n",
       "      <td>Ciprofloxacin</td>\n",
       "    </tr>\n",
       "    <tr>\n",
       "      <th>3</th>\n",
       "      <td>DB00916</td>\n",
       "      <td>DB01174</td>\n",
       "      <td>0.04</td>\n",
       "      <td>Moderate</td>\n",
       "      <td>1.514286</td>\n",
       "      <td>0.14</td>\n",
       "      <td>#fcc3ab</td>\n",
       "      <td>Female</td>\n",
       "      <td>1.019303</td>\n",
       "      <td>1.180590</td>\n",
       "      <td>8</td>\n",
       "      <td>1.514286</td>\n",
       "      <td>0.847034</td>\n",
       "      <td>Metronidazole</td>\n",
       "      <td>Phenobarbital</td>\n",
       "    </tr>\n",
       "    <tr>\n",
       "      <th>4</th>\n",
       "      <td>DB01223</td>\n",
       "      <td>DB00199</td>\n",
       "      <td>0.02</td>\n",
       "      <td>Moderate</td>\n",
       "      <td>1.257143</td>\n",
       "      <td>0.14</td>\n",
       "      <td>#bc141a</td>\n",
       "      <td>Female</td>\n",
       "      <td>1.000000</td>\n",
       "      <td>126.090000</td>\n",
       "      <td>1</td>\n",
       "      <td>1.257143</td>\n",
       "      <td>0.000000</td>\n",
       "      <td>Aminophylline</td>\n",
       "      <td>Erythromycin</td>\n",
       "    </tr>\n",
       "  </tbody>\n",
       "</table>\n",
       "</div>"
      ],
      "text/plain": [
       "       dbi      dbj   tau  severity    weight  edge_bet_cent    color  gender  \\\n",
       "0  DB01174  DB00741  0.01  Moderate  1.128571           0.20  #fcb89d  Female   \n",
       "1  DB00252  DB00741  0.02  Moderate  1.257143           0.19  #808080    Male   \n",
       "2  DB00682  DB00537  0.07     Major  1.900000           0.14  #fdc9b4  Female   \n",
       "3  DB00916  DB01174  0.04  Moderate  1.514286           0.14  #fcc3ab  Female   \n",
       "4  DB01223  DB00199  0.02  Moderate  1.257143           0.14  #bc141a  Female   \n",
       "\n",
       "   patients_norm       RRI^F  patients  tau_norm     RRI^M        label_i  \\\n",
       "0       1.005515    1.416707         3  1.128571  0.705862  Phenobarbital   \n",
       "1       1.002758    0.708354         2  1.257143  1.411724      Phenytoin   \n",
       "2       1.057908    1.023178        22  1.900000  0.977347       Warfarin   \n",
       "3       1.019303    1.180590         8  1.514286  0.847034  Metronidazole   \n",
       "4       1.000000  126.090000         1  1.257143  0.000000  Aminophylline   \n",
       "\n",
       "          label_j  \n",
       "0  Hydrocortisone  \n",
       "1  Hydrocortisone  \n",
       "2   Ciprofloxacin  \n",
       "3   Phenobarbital  \n",
       "4    Erythromycin  "
      ]
     },
     "execution_count": 18,
     "metadata": {},
     "output_type": "execute_result"
    }
   ],
   "source": [
    "net_edges = pd.read_csv('/home/felipe/Code/datasci4health/p3/data/external/net_edges.csv')\n",
    "net_edges.head()"
   ]
  },
  {
   "cell_type": "code",
   "execution_count": 19,
   "metadata": {},
   "outputs": [
    {
     "data": {
      "text/html": [
       "<div>\n",
       "<style scoped>\n",
       "    .dataframe tbody tr th:only-of-type {\n",
       "        vertical-align: middle;\n",
       "    }\n",
       "\n",
       "    .dataframe tbody tr th {\n",
       "        vertical-align: top;\n",
       "    }\n",
       "\n",
       "    .dataframe thead th {\n",
       "        text-align: right;\n",
       "    }\n",
       "</style>\n",
       "<table border=\"1\" class=\"dataframe\">\n",
       "  <thead>\n",
       "    <tr style=\"text-align: right;\">\n",
       "      <th></th>\n",
       "      <th>dbi</th>\n",
       "      <th>p_node</th>\n",
       "      <th>hormone</th>\n",
       "      <th>len_i</th>\n",
       "      <th>degree</th>\n",
       "      <th>color</th>\n",
       "      <th>degree-strength</th>\n",
       "      <th>label</th>\n",
       "      <th>node_bet_cent</th>\n",
       "      <th>module-louvain</th>\n",
       "      <th>module-infomap</th>\n",
       "      <th>class</th>\n",
       "      <th>rank_degree</th>\n",
       "    </tr>\n",
       "  </thead>\n",
       "  <tbody>\n",
       "    <tr>\n",
       "      <th>43</th>\n",
       "      <td>DB00741</td>\n",
       "      <td>0.01</td>\n",
       "      <td>False</td>\n",
       "      <td>354</td>\n",
       "      <td>3</td>\n",
       "      <td>#f2ea25</td>\n",
       "      <td>0.06</td>\n",
       "      <td>Hydrocortisone</td>\n",
       "      <td>0.2</td>\n",
       "      <td>4</td>\n",
       "      <td>1</td>\n",
       "      <td>Hormones</td>\n",
       "      <td>39</td>\n",
       "    </tr>\n",
       "  </tbody>\n",
       "</table>\n",
       "</div>"
      ],
      "text/plain": [
       "        dbi  p_node  hormone  len_i  degree    color  degree-strength  \\\n",
       "43  DB00741    0.01    False    354       3  #f2ea25             0.06   \n",
       "\n",
       "             label  node_bet_cent  module-louvain  module-infomap     class  \\\n",
       "43  Hydrocortisone            0.2               4               1  Hormones   \n",
       "\n",
       "    rank_degree  \n",
       "43           39  "
      ]
     },
     "execution_count": 19,
     "metadata": {},
     "output_type": "execute_result"
    }
   ],
   "source": [
    "net_nodes[net_nodes['dbi'] == 'DB00741']"
   ]
  },
  {
   "cell_type": "markdown",
   "metadata": {},
   "source": [
    "Edge colors are checked for unique files. As expected, there is a single gary shade (all channels are equal) and the remaining colors are red shades (first byte is the greatest)."
   ]
  },
  {
   "cell_type": "code",
   "execution_count": 20,
   "metadata": {},
   "outputs": [
    {
     "data": {
      "text/plain": [
       "array(['#808080', '#aa9992', '#bc141a', '#bd151a', '#c6171c', '#ce1b1e',\n",
       "       '#dd2924', '#e02c26', '#e22e27', '#e4bbaa', '#f34b36', '#f5523b',\n",
       "       '#f5533b', '#f85f43', '#fa6647', '#fb694a', '#fb6c4c', '#fb6f4f',\n",
       "       '#fb7252', '#fb7959', '#fb7b5b', '#fb7c5c', '#fc8d6d', '#fc9373',\n",
       "       '#fc9777', '#fc997a', '#fc9a7b', '#fc9e80', '#fc9f81', '#fca082',\n",
       "       '#fca588', '#fca689', '#fca88c', '#fca98d', '#fcaa8d', '#fcae93',\n",
       "       '#fcb195', '#fcb297', '#fcb398', '#fcb499', '#fcb69b', '#fcb89d',\n",
       "       '#fcbaa0', '#fcbba1', '#fcbda4', '#fcbfa6', '#fcc0a7', '#fcc1a9',\n",
       "       '#fcc2aa', '#fcc3ab', '#fcc4ad', '#fdc6b0', '#fdc8b2', '#fdc9b3',\n",
       "       '#fdc9b4'], dtype=object)"
      ]
     },
     "execution_count": 20,
     "metadata": {},
     "output_type": "execute_result"
    }
   ],
   "source": [
    "unique_edge_colors = net_edges['color'].unique()\n",
    "unique_edge_colors.sort()\n",
    "unique_edge_colors"
   ]
  },
  {
   "cell_type": "code",
   "execution_count": 30,
   "metadata": {},
   "outputs": [
    {
     "data": {
      "text/plain": [
       "array([0.00000000e+00, 7.93103420e-03, 1.70087239e-02, 4.62860357e-02,\n",
       "       1.04021775e-01, 1.17643674e-01, 1.35742701e-01, 1.41172409e-01,\n",
       "       1.51256152e-01, 1.62891241e-01, 1.76465511e-01, 1.84137924e-01,\n",
       "       2.01674870e-01, 2.10159573e-01, 2.18071201e-01, 2.35287348e-01,\n",
       "       2.39275269e-01, 2.42009844e-01, 2.81775574e-01, 2.82344818e-01,\n",
       "       2.92550052e-01, 2.93769174e-01, 3.13716464e-01, 3.24223714e-01,\n",
       "       3.32170374e-01, 3.38813781e-01, 3.44322948e-01, 3.52931022e-01,\n",
       "       3.70288285e-01, 3.78140381e-01, 3.79538908e-01, 4.38749562e-01,\n",
       "       4.63551193e-01, 4.80277267e-01, 4.94103431e-01, 4.98255560e-01,\n",
       "       5.16860732e-01, 5.24354661e-01, 5.32726071e-01, 5.59362374e-01,\n",
       "       5.64689635e-01, 5.81298154e-01, 5.88218370e-01, 5.94410142e-01,\n",
       "       6.20303008e-01, 6.41692767e-01, 6.51564964e-01, 6.56615855e-01,\n",
       "       6.65527070e-01, 6.85101396e-01, 7.05862044e-01, 7.06362300e-01,\n",
       "       7.27692829e-01, 7.41753334e-01, 7.43012678e-01, 7.52919513e-01,\n",
       "       7.64683881e-01, 7.68186619e-01, 7.84291160e-01, 7.85329956e-01,\n",
       "       7.90565489e-01, 7.94094799e-01, 8.22809601e-01, 8.23505718e-01,\n",
       "       8.26866966e-01, 8.42081035e-01, 8.47034453e-01, 8.82327555e-01,\n",
       "       8.98369874e-01, 9.13468527e-01, 9.14149204e-01, 9.31545827e-01,\n",
       "       9.41149392e-01, 9.51379277e-01, 9.68039374e-01, 9.77347445e-01,\n",
       "       9.88206861e-01, 1.00531867e+00, 1.00837435e+00, 1.01850414e+00,\n",
       "       1.05352544e+00, 1.05879307e+00, 1.06591271e+00, 1.12167158e+00,\n",
       "       1.12937927e+00, 1.14183566e+00, 1.19453577e+00, 1.25089476e+00,\n",
       "       1.28141110e+00, 1.32064511e+00, 1.36304395e+00, 1.37250953e+00,\n",
       "       1.41172409e+00, 1.48602536e+00, 1.60644465e+00, 1.62001125e+00,\n",
       "       1.62348270e+00, 1.64172408e+00, 1.71013731e+00, 1.77999994e+00,\n",
       "       1.81507383e+00, 1.88229878e+00, 1.88865790e+00, 2.05341685e+00,\n",
       "       2.11758613e+00, 2.82344818e+00, 4.23517226e+00, 5.22337912e+00,\n",
       "       5.64689635e+00, 1.41172409e+01, 1.26090000e+02])"
      ]
     },
     "execution_count": 30,
     "metadata": {},
     "output_type": "execute_result"
    }
   ],
   "source": [
    "unique_rri_m = net_edges['RRI^M'].unique()\n",
    "unique_rri_m.sort()\n",
    "unique_rri_m"
   ]
  },
  {
   "cell_type": "code",
   "execution_count": 57,
   "metadata": {},
   "outputs": [
    {
     "data": {
      "text/plain": [
       "array([0.00000000e+00, 7.08353713e-02, 1.77088428e-01, 1.91446950e-01,\n",
       "       2.36117904e-01, 3.54176857e-01, 4.72235809e-01, 4.86993178e-01,\n",
       "       5.29476513e-01, 5.31265285e-01, 5.50941777e-01, 5.61797773e-01,\n",
       "       5.84748368e-01, 6.09115754e-01, 6.15959751e-01, 6.17279665e-01,\n",
       "       6.22492657e-01, 6.72936028e-01, 7.08353713e-01, 7.28592391e-01,\n",
       "       7.33652060e-01, 7.57205694e-01, 7.80389684e-01, 7.99427762e-01,\n",
       "       8.37145298e-01, 8.75782773e-01, 8.85442142e-01, 8.91526554e-01,\n",
       "       9.38163124e-01, 9.44471618e-01, 9.49193976e-01, 9.81832046e-01,\n",
       "       9.91695199e-01, 9.94709470e-01, 1.01193388e+00, 1.02317759e+00,\n",
       "       1.03301583e+00, 1.05110551e+00, 1.06253057e+00, 1.07348449e+00,\n",
       "       1.09391333e+00, 1.09472847e+00, 1.11312726e+00, 1.13336594e+00,\n",
       "       1.18058952e+00, 1.18753417e+00, 1.20938439e+00, 1.21432065e+00,\n",
       "       1.21534800e+00, 1.25929549e+00, 1.26491735e+00, 1.27335013e+00,\n",
       "       1.27503668e+00, 1.30176701e+00, 1.30772993e+00, 1.32816321e+00,\n",
       "       1.34587206e+00, 1.34815707e+00, 1.37420620e+00, 1.41570409e+00,\n",
       "       1.41670743e+00, 1.45963796e+00, 1.50256848e+00, 1.52296048e+00,\n",
       "       1.53476638e+00, 1.55837817e+00, 1.61211535e+00, 1.68234007e+00,\n",
       "       1.70004891e+00, 1.72028759e+00, 1.77088428e+00, 1.78774985e+00,\n",
       "       1.87713734e+00, 1.90710615e+00, 1.93475716e+00, 2.00700219e+00,\n",
       "       2.02386775e+00, 2.08213061e+00, 2.15725904e+00, 2.27920456e+00,\n",
       "       2.63477598e+00, 2.64452053e+00, 2.70059853e+00, 2.83341485e+00,\n",
       "       2.90425023e+00, 2.95147381e+00, 3.01050328e+00, 3.08429013e+00,\n",
       "       3.18759171e+00, 3.40403312e+00, 3.41821850e+00, 3.54176857e+00,\n",
       "       3.54892366e+00, 4.13206333e+00, 4.17928691e+00, 4.25012228e+00,\n",
       "       4.58565825e+00, 4.75828908e+00, 4.95847599e+00, 5.43071180e+00,\n",
       "       5.66682971e+00, 6.13906552e+00, 6.61130133e+00, 7.08353713e+00,\n",
       "       7.36687862e+00, 8.50024456e+00, 9.61337183e+00, 2.16047883e+01,\n",
       "       5.87933582e+01, 1.26086961e+02, 1.26090000e+02])"
      ]
     },
     "execution_count": 57,
     "metadata": {},
     "output_type": "execute_result"
    }
   ],
   "source": [
    "unique_rri_f = net_edges['RRI^F'].unique()\n",
    "unique_rri_f.sort()\n",
    "unique_rri_f"
   ]
  },
  {
   "cell_type": "code",
   "execution_count": 26,
   "metadata": {},
   "outputs": [
    {
     "data": {
      "text/plain": [
       "(126.09, 0.0, 28.394282031450466, 50.72205641073922)"
      ]
     },
     "execution_count": 26,
     "metadata": {},
     "output_type": "execute_result"
    }
   ],
   "source": [
    "net_edges['RRI^F'].max(), net_edges['RRI^F'].min(), net_edges['RRI^F'].mean(), net_edges['RRI^F'].std()"
   ]
  },
  {
   "cell_type": "code",
   "execution_count": 27,
   "metadata": {},
   "outputs": [
    {
     "data": {
      "text/plain": [
       "(126.09, 0.0, 4.236984963985631, 20.634446364120834)"
      ]
     },
     "execution_count": 27,
     "metadata": {},
     "output_type": "execute_result"
    }
   ],
   "source": [
    "net_edges['RRI^M'].max(), net_edges['RRI^M'].min(), net_edges['RRI^M'].mean(), net_edges['RRI^M'].std()"
   ]
  },
  {
   "cell_type": "code",
   "execution_count": 44,
   "metadata": {},
   "outputs": [
    {
     "data": {
      "text/plain": [
       "False"
      ]
     },
     "execution_count": 44,
     "metadata": {},
     "output_type": "execute_result"
    }
   ],
   "source": [
    "np.any(net_edges['RRI^F']==1)"
   ]
  },
  {
   "cell_type": "code",
   "execution_count": 51,
   "metadata": {},
   "outputs": [
    {
     "data": {
      "text/plain": [
       "<matplotlib.image.AxesImage at 0x7f9abce17940>"
      ]
     },
     "execution_count": 51,
     "metadata": {},
     "output_type": "execute_result"
    },
    {
     "data": {
      "image/png": "[encoded data removed]",
      "text/plain": [
       "<Figure size 432x288 with 1 Axes>"
      ]
     },
     "metadata": {
      "needs_background": "light"
     },
     "output_type": "display_data"
    }
   ],
   "source": [
    "norm = mpl.colors.Normalize(vmin=0, vmax=255)\n",
    "plt.imshow(norm((0,0,70)*np.ones((100,100,3))))"
   ]
  },
  {
   "cell_type": "markdown",
   "metadata": {},
   "source": [
    "Color channel values will be scaled from 70 (0x32) to 255 (0xff), blue if risk is greater for men or red if risk is greater for women."
   ]
  },
  {
   "cell_type": "code",
   "execution_count": 55,
   "metadata": {},
   "outputs": [
    {
     "data": {
      "text/html": [
       "<div>\n",
       "<style scoped>\n",
       "    .dataframe tbody tr th:only-of-type {\n",
       "        vertical-align: middle;\n",
       "    }\n",
       "\n",
       "    .dataframe tbody tr th {\n",
       "        vertical-align: top;\n",
       "    }\n",
       "\n",
       "    .dataframe thead th {\n",
       "        text-align: right;\n",
       "    }\n",
       "</style>\n",
       "<table border=\"1\" class=\"dataframe\">\n",
       "  <thead>\n",
       "    <tr style=\"text-align: right;\">\n",
       "      <th></th>\n",
       "      <th>dbi</th>\n",
       "      <th>dbj</th>\n",
       "      <th>tau</th>\n",
       "      <th>severity</th>\n",
       "      <th>weight</th>\n",
       "      <th>edge_bet_cent</th>\n",
       "      <th>color</th>\n",
       "      <th>gender</th>\n",
       "      <th>patients_norm</th>\n",
       "      <th>RRI^F</th>\n",
       "      <th>patients</th>\n",
       "      <th>tau_norm</th>\n",
       "      <th>RRI^M</th>\n",
       "      <th>label_i</th>\n",
       "      <th>label_j</th>\n",
       "      <th>our-color</th>\n",
       "    </tr>\n",
       "  </thead>\n",
       "  <tbody>\n",
       "    <tr>\n",
       "      <th>0</th>\n",
       "      <td>DB01174</td>\n",
       "      <td>DB00741</td>\n",
       "      <td>0.01</td>\n",
       "      <td>Moderate</td>\n",
       "      <td>1.128571</td>\n",
       "      <td>0.20</td>\n",
       "      <td>#fcb89d</td>\n",
       "      <td>Female</td>\n",
       "      <td>1.005515</td>\n",
       "      <td>1.416707</td>\n",
       "      <td>3</td>\n",
       "      <td>1.128571</td>\n",
       "      <td>0.705862</td>\n",
       "      <td>Phenobarbital</td>\n",
       "      <td>Hydrocortisone</td>\n",
       "      <td>#480000</td>\n",
       "    </tr>\n",
       "    <tr>\n",
       "      <th>1</th>\n",
       "      <td>DB00252</td>\n",
       "      <td>DB00741</td>\n",
       "      <td>0.02</td>\n",
       "      <td>Moderate</td>\n",
       "      <td>1.257143</td>\n",
       "      <td>0.19</td>\n",
       "      <td>#808080</td>\n",
       "      <td>Male</td>\n",
       "      <td>1.002758</td>\n",
       "      <td>0.708354</td>\n",
       "      <td>2</td>\n",
       "      <td>1.257143</td>\n",
       "      <td>1.411724</td>\n",
       "      <td>Phenytoin</td>\n",
       "      <td>Hydrocortisone</td>\n",
       "      <td>#000048</td>\n",
       "    </tr>\n",
       "    <tr>\n",
       "      <th>2</th>\n",
       "      <td>DB00682</td>\n",
       "      <td>DB00537</td>\n",
       "      <td>0.07</td>\n",
       "      <td>Major</td>\n",
       "      <td>1.900000</td>\n",
       "      <td>0.14</td>\n",
       "      <td>#fdc9b4</td>\n",
       "      <td>Female</td>\n",
       "      <td>1.057908</td>\n",
       "      <td>1.023178</td>\n",
       "      <td>22</td>\n",
       "      <td>1.900000</td>\n",
       "      <td>0.977347</td>\n",
       "      <td>Warfarin</td>\n",
       "      <td>Ciprofloxacin</td>\n",
       "      <td>#470000</td>\n",
       "    </tr>\n",
       "    <tr>\n",
       "      <th>3</th>\n",
       "      <td>DB00916</td>\n",
       "      <td>DB01174</td>\n",
       "      <td>0.04</td>\n",
       "      <td>Moderate</td>\n",
       "      <td>1.514286</td>\n",
       "      <td>0.14</td>\n",
       "      <td>#fcc3ab</td>\n",
       "      <td>Female</td>\n",
       "      <td>1.019303</td>\n",
       "      <td>1.180590</td>\n",
       "      <td>8</td>\n",
       "      <td>1.514286</td>\n",
       "      <td>0.847034</td>\n",
       "      <td>Metronidazole</td>\n",
       "      <td>Phenobarbital</td>\n",
       "      <td>#470000</td>\n",
       "    </tr>\n",
       "    <tr>\n",
       "      <th>4</th>\n",
       "      <td>DB01223</td>\n",
       "      <td>DB00199</td>\n",
       "      <td>0.02</td>\n",
       "      <td>Moderate</td>\n",
       "      <td>1.257143</td>\n",
       "      <td>0.14</td>\n",
       "      <td>#bc141a</td>\n",
       "      <td>Female</td>\n",
       "      <td>1.000000</td>\n",
       "      <td>126.090000</td>\n",
       "      <td>1</td>\n",
       "      <td>1.257143</td>\n",
       "      <td>0.000000</td>\n",
       "      <td>Aminophylline</td>\n",
       "      <td>Erythromycin</td>\n",
       "      <td>#ff0000</td>\n",
       "    </tr>\n",
       "  </tbody>\n",
       "</table>\n",
       "</div>"
      ],
      "text/plain": [
       "       dbi      dbj   tau  severity    weight  edge_bet_cent    color  gender  \\\n",
       "0  DB01174  DB00741  0.01  Moderate  1.128571           0.20  #fcb89d  Female   \n",
       "1  DB00252  DB00741  0.02  Moderate  1.257143           0.19  #808080    Male   \n",
       "2  DB00682  DB00537  0.07     Major  1.900000           0.14  #fdc9b4  Female   \n",
       "3  DB00916  DB01174  0.04  Moderate  1.514286           0.14  #fcc3ab  Female   \n",
       "4  DB01223  DB00199  0.02  Moderate  1.257143           0.14  #bc141a  Female   \n",
       "\n",
       "   patients_norm       RRI^F  patients  tau_norm     RRI^M        label_i  \\\n",
       "0       1.005515    1.416707         3  1.128571  0.705862  Phenobarbital   \n",
       "1       1.002758    0.708354         2  1.257143  1.411724      Phenytoin   \n",
       "2       1.057908    1.023178        22  1.900000  0.977347       Warfarin   \n",
       "3       1.019303    1.180590         8  1.514286  0.847034  Metronidazole   \n",
       "4       1.000000  126.090000         1  1.257143  0.000000  Aminophylline   \n",
       "\n",
       "          label_j our-color  \n",
       "0  Hydrocortisone   #480000  \n",
       "1  Hydrocortisone   #000048  \n",
       "2   Ciprofloxacin   #470000  \n",
       "3   Phenobarbital   #470000  \n",
       "4    Erythromycin   #ff0000  "
      ]
     },
     "execution_count": 55,
     "metadata": {},
     "output_type": "execute_result"
    }
   ],
   "source": [
    "rri_max = net_edges['RRI^M'].max()\n",
    "\n",
    "net_edges['our-color'] = np.where(\n",
    "    net_edges['RRI^F'] > 1,\n",
    "    net_edges['RRI^F'] * 185 / rri_max + 70,\n",
    "    net_edges['RRI^M'] * 185 / rri_max + 70\n",
    ").astype(int)\n",
    "\n",
    "net_edges['our-color'] = np.where(\n",
    "    net_edges['RRI^F'] > 1,\n",
    "    net_edges['our-color'].apply(lambda x: '#{:02x}0000'.format(x)),\n",
    "    net_edges['our-color'].apply(lambda x: '#0000{:02x}'.format(x))\n",
    ")\n",
    "net_edges.head()"
   ]
  },
  {
   "cell_type": "markdown",
   "metadata": {},
   "source": [
    "Then, our network file is saved."
   ]
  },
  {
   "cell_type": "code",
   "execution_count": 56,
   "metadata": {},
   "outputs": [],
   "source": [
    "net_edges.to_csv('/home/felipe/Code/datasci4health/p3/data/interim/net_edges_colored.csv', index=False)"
   ]
  }
 ],
 "metadata": {
  "interpreter": {
   "hash": "e91d9fc98e1860010dc6c8043dbea8e90ad28b86fa943c52924f7f6fe3a871e4"
  },
  "kernelspec": {
   "display_name": "Python 3.8.13 ('p2-datasci4h')",
   "language": "python",
   "name": "python3"
  },
  "language_info": {
   "codemirror_mode": {
    "name": "ipython",
    "version": 3
   },
   "file_extension": ".py",
   "mimetype": "text/x-python",
   "name": "python",
   "nbconvert_exporter": "python",
   "pygments_lexer": "ipython3",
   "version": "3.8.13"
  },
  "orig_nbformat": 4
 },
 "nbformat": 4,
 "nbformat_minor": 2
}
